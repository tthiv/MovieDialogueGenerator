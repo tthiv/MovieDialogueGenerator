{
 "cells": [
  {
   "cell_type": "code",
   "execution_count": 1,
   "metadata": {},
   "outputs": [
    {
     "name": "stderr",
     "output_type": "stream",
     "text": [
      "Using TensorFlow backend.\n"
     ]
    }
   ],
   "source": [
    "import numpy as np\n",
    "import pandas as pd\n",
    "import re\n",
    "import codecs\n",
    "\n",
    "from matplotlib import pyplot\n",
    "from numpy import array\n",
    "from pandas import DataFrame\n",
    "\n",
    "from keras.models import Sequential\n",
    "from keras.layers import Dense\n",
    "from keras.layers import Dropout\n",
    "from keras.layers import LSTM\n",
    "from keras.layers import RNN\n",
    "from keras.layers import Lambda\n",
    "from keras.utils import np_utils\n",
    "from keras.callbacks import ModelCheckpoint\n"
   ]
  },
  {
   "cell_type": "code",
   "execution_count": 4,
   "metadata": {
    "scrolled": true
   },
   "outputs": [
    {
     "name": "stdout",
     "output_type": "stream",
     "text": [
      "Number of unique characters:  34\n",
      "[' ', '!', '\"', \"'\", ',', '-', '.', '?', 'a', 'b', 'c', 'd', 'e', 'f', 'g', 'h', 'i', 'j', 'k', 'l', 'm', 'n', 'o', 'p', 'q', 'r', 's', 't', 'u', 'v', 'w', 'x', 'y', 'z']\n",
      "Number of extracted sequences: 28252\n",
      "Model: \"sequential_3\"\n",
      "_________________________________________________________________\n",
      "Layer (type)                 Output Shape              Param #   \n",
      "=================================================================\n",
      "lstm_5 (LSTM)                (None, 65, 320)           412160    \n",
      "_________________________________________________________________\n",
      "dropout_5 (Dropout)          (None, 65, 320)           0         \n",
      "_________________________________________________________________\n",
      "lstm_6 (LSTM)                (None, 320)               820480    \n",
      "_________________________________________________________________\n",
      "dropout_6 (Dropout)          (None, 320)               0         \n",
      "_________________________________________________________________\n",
      "dense_3 (Dense)              (None, 34)                10914     \n",
      "_________________________________________________________________\n",
      "lambda_3 (Lambda)            (None, 34)                0         \n",
      "=================================================================\n",
      "Total params: 1,243,554\n",
      "Trainable params: 1,243,554\n",
      "Non-trainable params: 0\n",
      "_________________________________________________________________\n",
      "None\n"
     ]
    }
   ],
   "source": [
    "jokertext = (open(\"text-data/data.txt\").read())\n",
    "jokertext = jokertext.lower()\n",
    "\n",
    "characters = sorted(list(set(jokertext)))\n",
    "\n",
    "\n",
    "n_to_char = {n:char for n, char in enumerate(characters)}\n",
    "char_to_n = {char:n for n, char in enumerate(characters)}\n",
    "\n",
    "vocab_size = len(characters)\n",
    "print('Number of unique characters: ', vocab_size)\n",
    "print(characters)\n",
    "\n",
    "X = []   # extracted sequences\n",
    "Y = []   # the target - the follow up character\n",
    "length = len(jokertext)\n",
    "seq_length = 65   #number of characters to consider before predicting the following character\n",
    "#get the number value for each char\n",
    "for i in range(0, length - seq_length, 1):\n",
    "    sequence = jokertext[i:i + seq_length]\n",
    "    label = jokertext[i + seq_length]\n",
    "    X.append([char_to_n[char] for char in sequence])\n",
    "    Y.append(char_to_n[label])\n",
    "    \n",
    "print('Number of extracted sequences:', len(X))\n",
    "#change the shape so we can change the range to 0-1 to optimize for sigmoid\n",
    "X_modified = np.reshape(X, (len(X), seq_length, 1))\n",
    "X_modified = X_modified / float(len(characters))\n",
    "Y_modified = np_utils.to_categorical(Y)\n",
    "\n",
    "X_modified.shape, Y_modified.shape\n",
    "\n",
    "#initialize the keras LSTM model\n",
    "model = Sequential()\n",
    "model.add(LSTM(320, input_shape=(X_modified.shape[1],\n",
    "             X_modified.shape[2]), return_sequences=True))\n",
    "model.add(Dropout(0.2))\n",
    "model.add(LSTM(320))\n",
    "model.add(Dropout(0.2))\n",
    "model.add(Dense(Y_modified.shape[1], activation='softmax'))\n",
    "model.add(Lambda(lambda x: x ** 2)) #temp softmax\n",
    "\n",
    "\n",
    "# load the network weights\n",
    "#filename = \"model-data/baseline-improvement-10-2.1320.hdf5\"\n",
    "#model.load_weights(filename)\n",
    "model.compile(loss='categorical_crossentropy', optimizer='adam', metrics=['accuracy'])\n",
    "\n",
    "filepath=\"model-data/baseline-improvement-{epoch:02d}-{loss:.4f}.hdf5\"\n",
    "checkpoint = ModelCheckpoint(filepath, monitor='loss', verbose=1, save_best_only=True, mode='min')\n",
    "callbacks_list = [checkpoint]\n",
    "print(model.summary())\n"
   ]
  },
  {
   "cell_type": "code",
   "execution_count": 5,
   "metadata": {},
   "outputs": [
    {
     "name": "stdout",
     "output_type": "stream",
     "text": [
      "Train on 24861 samples, validate on 3391 samples\n",
      "Epoch 1/7\n",
      "24861/24861 [==============================] - 392s 16ms/step - loss: 3.0152 - accuracy: 0.1938 - val_loss: 2.9593 - val_accuracy: 0.2070\n",
      "\n",
      "Epoch 00001: loss improved from inf to 3.01517, saving model to model-data/baseline-improvement-01-3.0152.hdf5\n",
      "Epoch 2/7\n",
      "24861/24861 [==============================] - 322s 13ms/step - loss: 2.9693 - accuracy: 0.1949 - val_loss: 2.9093 - val_accuracy: 0.1920\n",
      "\n",
      "Epoch 00002: loss improved from 3.01517 to 2.96932, saving model to model-data/baseline-improvement-02-2.9693.hdf5\n",
      "Epoch 3/7\n",
      "24861/24861 [==============================] - 293s 12ms/step - loss: 2.8822 - accuracy: 0.2080 - val_loss: 2.8067 - val_accuracy: 0.2262\n",
      "\n",
      "Epoch 00003: loss improved from 2.96932 to 2.88218, saving model to model-data/baseline-improvement-03-2.8822.hdf5\n",
      "Epoch 4/7\n",
      "24861/24861 [==============================] - 286s 11ms/step - loss: 2.7880 - accuracy: 0.2277 - val_loss: 2.7251 - val_accuracy: 0.2445\n",
      "\n",
      "Epoch 00004: loss improved from 2.88218 to 2.78798, saving model to model-data/baseline-improvement-04-2.7880.hdf5\n",
      "Epoch 5/7\n",
      "24861/24861 [==============================] - 286s 12ms/step - loss: 2.7150 - accuracy: 0.2379 - val_loss: 2.6517 - val_accuracy: 0.2607\n",
      "\n",
      "Epoch 00005: loss improved from 2.78798 to 2.71498, saving model to model-data/baseline-improvement-05-2.7150.hdf5\n",
      "Epoch 6/7\n",
      "24861/24861 [==============================] - 288s 12ms/step - loss: 2.6461 - accuracy: 0.2487 - val_loss: 2.6039 - val_accuracy: 0.2648\n",
      "\n",
      "Epoch 00006: loss improved from 2.71498 to 2.64609, saving model to model-data/baseline-improvement-06-2.6461.hdf5\n",
      "Epoch 7/7\n",
      "24861/24861 [==============================] - 288s 12ms/step - loss: 2.5877 - accuracy: 0.2644 - val_loss: 2.5904 - val_accuracy: 0.2760\n",
      "\n",
      "Epoch 00007: loss improved from 2.64609 to 2.58766, saving model to model-data/baseline-improvement-07-2.5877.hdf5\n"
     ]
    }
   ],
   "source": [
    "history = model.fit(X_modified, Y_modified, epochs=7, batch_size=128, callbacks = callbacks_list, validation_split=0.12)"
   ]
  },
  {
   "cell_type": "code",
   "execution_count": null,
   "metadata": {},
   "outputs": [],
   "source": [
    "start = np.random.randint(0, len(X)-1) # or generate random start\n",
    "\n",
    "string_mapped = list(X[start])\n",
    "\n",
    "full_string = [n_to_char[value] for value in string_mapped]\n",
    "#print(full_string)\n",
    "\n",
    "print(\"Seed Text:\")\n",
    "print(\"\\\"\", ''.join(full_string), \"\\\"\")\n",
    "\n",
    "# generating characters\n",
    "for i in range(130):\n",
    "    x = np.reshape(string_mapped,(1,len(string_mapped), 1))\n",
    "    x = x / float(len(characters))\n",
    "\n",
    "    pred_index = np.argmax(model.predict(x, verbose=0))\n",
    "    seq = [n_to_char[value] for value in string_mapped]\n",
    "    full_string.append(n_to_char[pred_index])\n",
    "    \n",
    "    string_mapped.append(pred_index)  # add the predicted character to the end\n",
    "    string_mapped = string_mapped[1:len(string_mapped)] # shift the string one character forward by removing pos. 0\n",
    "    \n",
    "    # combining text\n",
    "txt=\"\"\n",
    "for char in full_string:\n",
    "    txt = txt+char\n",
    "    \n",
    "#print(start)\n",
    "print()\n",
    "print(txt)"
   ]
  },
  {
   "cell_type": "code",
   "execution_count": 9,
   "metadata": {},
   "outputs": [
    {
     "data": {
      "image/png": "[encoded data removed]",
      "text/plain": [
       "<Figure size 432x288 with 1 Axes>"
      ]
     },
     "metadata": {
      "needs_background": "light"
     },
     "output_type": "display_data"
    }
   ],
   "source": [
    "\n",
    "#diagnosis of keras run \n",
    "pyplot.plot(history.history['loss'])\n",
    "pyplot.plot(history.history['val_loss'])\n",
    "pyplot.title('model train vs validation loss')\n",
    "pyplot.ylabel('loss')\n",
    "pyplot.xlabel('epoch')\n",
    "pyplot.legend(['train', 'validation'], loc='upper right')\n",
    "pyplot.show()"
   ]
  },
  {
   "cell_type": "code",
   "execution_count": 21,
   "metadata": {},
   "outputs": [
    {
     "name": "stdout",
     "output_type": "stream",
     "text": [
      "Number of unique characters:  35\n",
      "['\\n', ' ', '!', '\"', \"'\", ',', '-', '.', '?', 'a', 'b', 'c', 'd', 'e', 'f', 'g', 'h', 'i', 'j', 'k', 'l', 'm', 'n', 'o', 'p', 'q', 'r', 's', 't', 'u', 'v', 'w', 'x', 'y', 'z']\n",
      "Number of extracted sequences: 56536\n",
      "Model: \"sequential_7\"\n",
      "_________________________________________________________________\n",
      "Layer (type)                 Output Shape              Param #   \n",
      "=================================================================\n",
      "lstm_13 (LSTM)               (None, 100, 120)          58560     \n",
      "_________________________________________________________________\n",
      "dropout_13 (Dropout)         (None, 100, 120)          0         \n",
      "_________________________________________________________________\n",
      "lstm_14 (LSTM)               (None, 120)               115680    \n",
      "_________________________________________________________________\n",
      "dropout_14 (Dropout)         (None, 120)               0         \n",
      "_________________________________________________________________\n",
      "dense_7 (Dense)              (None, 35)                4235      \n",
      "_________________________________________________________________\n",
      "lambda_7 (Lambda)            (None, 35)                0         \n",
      "=================================================================\n",
      "Total params: 178,475\n",
      "Trainable params: 178,475\n",
      "Non-trainable params: 0\n",
      "_________________________________________________________________\n",
      "None\n",
      "Train on 49751 samples, validate on 6785 samples\n",
      "Epoch 1/5\n",
      "49751/49751 [==============================] - 257s 5ms/step - loss: 3.0113 - accuracy: 0.1942 - val_loss: 2.9726 - val_accuracy: 0.2077\n",
      "\n",
      "Epoch 00001: loss improved from inf to 3.01131, saving model to model-data/baseline-improvement-01-3.0113.hdf5\n",
      "Epoch 2/5\n",
      "49751/49751 [==============================] - 256s 5ms/step - loss: 2.9263 - accuracy: 0.2002 - val_loss: 2.8642 - val_accuracy: 0.2218\n",
      "\n",
      "Epoch 00002: loss improved from 3.01131 to 2.92626, saving model to model-data/baseline-improvement-02-2.9263.hdf5\n",
      "Epoch 3/5\n",
      "49751/49751 [==============================] - 257s 5ms/step - loss: 2.7898 - accuracy: 0.2261 - val_loss: 2.7513 - val_accuracy: 0.2357\n",
      "\n",
      "Epoch 00003: loss improved from 2.92626 to 2.78984, saving model to model-data/baseline-improvement-03-2.7898.hdf5\n",
      "Epoch 4/5\n",
      "49751/49751 [==============================] - 303s 6ms/step - loss: 2.7030 - accuracy: 0.2410 - val_loss: 2.6843 - val_accuracy: 0.2414\n",
      "\n",
      "Epoch 00004: loss improved from 2.78984 to 2.70297, saving model to model-data/baseline-improvement-04-2.7030.hdf5\n",
      "Epoch 5/5\n",
      "49751/49751 [==============================] - 299s 6ms/step - loss: 2.6332 - accuracy: 0.2545 - val_loss: 2.6371 - val_accuracy: 0.2604\n",
      "\n",
      "Epoch 00005: loss improved from 2.70297 to 2.63322, saving model to model-data/baseline-improvement-05-2.6332.hdf5\n"
     ]
    }
   ],
   "source": [
    "# GENERATE TEXT BASED ON EMOTIONS\n",
    "\n",
    "sadtext = (open(\"text-data/sad.txt\").read())\n",
    "sadtext = sadtext.lower()\n",
    "\n",
    "characters = sorted(list(set(sadtext)))\n",
    "\n",
    "n_to_char = {n:char for n, char in enumerate(characters)}\n",
    "char_to_n = {char:n for n, char in enumerate(characters)}\n",
    "\n",
    "vocab_size = len(characters)\n",
    "print('Number of unique characters: ', vocab_size)\n",
    "print(characters)\n",
    "\n",
    "X = []   # extracted sequences\n",
    "Y = []   # the target - the follow up character\n",
    "length = len(sadtext)\n",
    "seq_length = 100   #number of characters to consider before predicting the following character\n",
    "\n",
    "for i in range(0, length - seq_length, 1):\n",
    "    sequence = sadtext[i:i + seq_length]\n",
    "    label = sadtext[i + seq_length]\n",
    "    X.append([char_to_n[char] for char in sequence])\n",
    "    Y.append(char_to_n[label])\n",
    "    \n",
    "print('Number of extracted sequences:', len(X))\n",
    "\n",
    "X_modified = np.reshape(X, (len(X), seq_length, 1))\n",
    "X_modified = X_modified / float(len(characters))\n",
    "Y_modified = np_utils.to_categorical(Y)\n",
    "\n",
    "X_modified.shape, Y_modified.shape\n",
    "\n",
    "\n",
    "modelS = Sequential()\n",
    "modelS.add(LSTM(120, input_shape=(X_modified.shape[1],\n",
    "             X_modified.shape[2]), return_sequences=True))\n",
    "modelS.add(Dropout(0.2))\n",
    "modelS.add(LSTM(120))\n",
    "modelS.add(Dropout(0.2))\n",
    "modelS.add(Dense(Y_modified.shape[1], activation='softmax'))\n",
    "modelS.add(Lambda(lambda x: x ** 2)) #temp softmax\n",
    "\n",
    "\n",
    "# load the network weights\n",
    "#filename = \"model-data/baseline-improvement-10-2.1320.hdf5\"\n",
    "#model.load_weights(filename)\n",
    "modelS.compile(loss='categorical_crossentropy', optimizer='adam', metrics=['accuracy'])\n",
    "\n",
    "filepath=\"model-data/baseline-improvement-{epoch:02d}-{loss:.4f}.hdf5\"\n",
    "checkpoint = ModelCheckpoint(filepath, monitor='loss', verbose=1, save_best_only=True, mode='min')\n",
    "callbacks_list = [checkpoint]\n",
    "print(modelS.summary())\n",
    "historyS = modelS.fit(X_modified, Y_modified, epochs=5, batch_size=128, callbacks = callbacks_list, validation_split=0.12)"
   ]
  },
  {
   "cell_type": "code",
   "execution_count": 22,
   "metadata": {},
   "outputs": [
    {
     "data": {
      "image/png": "[encoded data removed]",
      "text/plain": [
       "<Figure size 432x288 with 1 Axes>"
      ]
     },
     "metadata": {
      "needs_background": "light"
     },
     "output_type": "display_data"
    }
   ],
   "source": [
    "pyplot.plot(historyS.history['loss'])\n",
    "pyplot.plot(historyS.history['val_loss'])\n",
    "pyplot.title('model train vs validation loss')\n",
    "pyplot.ylabel('loss')\n",
    "pyplot.xlabel('epoch')\n",
    "pyplot.legend(['train', 'validation'], loc='upper right')\n",
    "pyplot.show()"
   ]
  },
  {
   "cell_type": "code",
   "execution_count": 23,
   "metadata": {},
   "outputs": [
    {
     "name": "stdout",
     "output_type": "stream",
     "text": [
      "Seed Text:\n",
      "\" ginning to me. you what? what? what kind of woman are you? who does that?  why not? no. don't listen \"\n",
      "\n",
      "ginning to me. you what? what? what kind of woman are you? who does that?  why not? no. don't listen to the tou to the tou to the tou to the tou to the tou to the tou to the tou to the tou to the tou to the tou to the to\n"
     ]
    }
   ],
   "source": [
    "start = np.random.randint(0, len(X)-1) # or generate random start\n",
    "\n",
    "string_mapped = list(X[start])\n",
    "\n",
    "full_string = [n_to_char[value] for value in string_mapped]\n",
    "#print(full_string)\n",
    "\n",
    "print(\"Seed Text:\")\n",
    "print(\"\\\"\", ''.join(full_string), \"\\\"\")\n",
    "\n",
    "# generating characters\n",
    "for i in range(120):\n",
    "    x = np.reshape(string_mapped,(1,len(string_mapped), 1))\n",
    "    x = x / float(len(characters))\n",
    "\n",
    "    pred_index = np.argmax(modelS.predict(x, verbose=0))\n",
    "    seq = [n_to_char[value] for value in string_mapped]\n",
    "    full_string.append(n_to_char[pred_index])\n",
    "    \n",
    "    string_mapped.append(pred_index)  # add the predicted character to the end\n",
    "    string_mapped = string_mapped[1:len(string_mapped)] # shift the string one character forward by removing pos. 0\n",
    "    \n",
    "    # combining text\n",
    "txt=\"\"\n",
    "for char in full_string:\n",
    "    txt = txt+char\n",
    "    \n",
    "#print(start)\n",
    "print()\n",
    "print(txt)"
   ]
  },
  {
   "cell_type": "code",
   "execution_count": null,
   "metadata": {},
   "outputs": [],
   "source": []
  }
 ],
 "metadata": {
  "kernelspec": {
   "display_name": "Python 3",
   "language": "python",
   "name": "python3"
  },
  "language_info": {
   "codemirror_mode": {
    "name": "ipython",
    "version": 3
   },
   "file_extension": ".py",
   "mimetype": "text/x-python",
   "name": "python",
   "nbconvert_exporter": "python",
   "pygments_lexer": "ipython3",
   "version": "3.7.4"
  }
 },
 "nbformat": 4,
 "nbformat_minor": 2
}
