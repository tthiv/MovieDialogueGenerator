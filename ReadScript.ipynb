{
 "cells": [
  {
   "cell_type": "code",
   "execution_count": 17,
   "metadata": {},
   "outputs": [],
   "source": [
    "import numpy as np\n",
    "import pandas as pd\n",
    "import re\n",
    "import codecs"
   ]
  },
  {
   "cell_type": "code",
   "execution_count": 2,
   "metadata": {},
   "outputs": [],
   "source": [
    "pharse=''\n",
    "\n",
    "#check if a number is in string\n",
    "def hasNum(s):\n",
    "    return any(i.isdigit() for i in s)\n",
    "\n",
    "\n",
    "\n",
    "\n",
    "\n",
    "# get the dialog of all joker characters \n",
    "def readffile(f):\n",
    "    jokertext=''\n",
    "    spoken_text = ''\n",
    "    name=''\n",
    "    \n",
    "      # read the file content\n",
    "\n",
    "      # split the file into a list split by new line\n",
    "    for line in f.split('\\n'):\n",
    "            #get rid of the words inside (...) and [...]\n",
    "            #line = re.sub(\"[\\(\\[].*?[\\)\\]]\", \"\", line)\n",
    "        # split the line into a list of words\n",
    "        words = line.split()\n",
    "\n",
    "        # if there are no words set i to zero the following may be a new person\n",
    "        if not words:\n",
    "            i=0\n",
    "            continue\n",
    "\n",
    "            # if this line is a person identifier, do nothing\n",
    "        if len(words[0]) > 1 and all([i.isupper() for i in words[0]]):\n",
    "            name=' '.join(words)\n",
    "            #print(name)\n",
    "            spoken_text += '\\n'\n",
    "            continue\n",
    "\n",
    "        \n",
    "        #if the lines not empty \n",
    "        if len(line) - len(line.lstrip()) >0:\n",
    "            if name == 'JOKER' :\n",
    "                #get rid of the numbers\n",
    "                if not hasNum(line.strip()):\n",
    "                    jokertext+= line.strip() + ' '\n",
    "            elif 'THE JOKER' in name:\n",
    "                print(line.strip())\n",
    "                if not hasNum(line.strip()) and not line.strip().isupper():\n",
    "                    jokertext+= line.strip() + ' '\n",
    "                \n",
    "            if i==0:\n",
    "                spoken_text += name+'\\n'\n",
    "                i+=1\n",
    "                spoken_text +=  line.strip() + ' '\n",
    "\n",
    "    #regex = re.compile(\".*?\\((.*?)\\)\")\n",
    "    jokertext = re.sub(\"[\\(\\[].*?[\\)\\]]\", \"\", jokertext)\n",
    "    #print(jokertext)\n",
    "    \n",
    "    f1 = open(\"text-data/data.txt\", \"a\")\n",
    "\n",
    "    f1.write(jokertext)\n",
    "    f1.close()\n",
    "    #print(spoken_text)"
   ]
  },
  {
   "cell_type": "code",
   "execution_count": 3,
   "metadata": {},
   "outputs": [],
   "source": [
    "#iterate through all the scripts\n",
    "with codecs.open('text-data/joker.txt', 'r', 'utf8') as f:\n",
    "    f = f.read()\n",
    "    readffile(f)\n",
    "        \n",
    "with codecs.open('text-data/batman1898.txt', 'r', 'utf8') as f1:\n",
    "    f1 = f1.read()\n",
    "    readffile(f1)\n",
    "    \n",
    "with codecs.open('text-data/thedarkknight.txt', 'r', 'utf8') as f1:\n",
    "    f1 = f1.read()\n",
    "    readffile(f1)"
   ]
  },
  {
   "cell_type": "code",
   "execution_count": 30,
   "metadata": {},
   "outputs": [],
   "source": [
    "import nltk\n",
    "import bs4 as bs\n",
    "import urllib.request\n",
    "from nltk.corpus import stopwords\n",
    "\n",
    "from gensim.models import Word2Vec\n",
    "\n",
    "#print all the lines that have the emotion words in text into a text file\n",
    "def print_emo(sim_word, emotion):  \n",
    "    words=[]\n",
    "    for i in sim_words:\n",
    "        words.append(i[0])\n",
    "    #print(words)\n",
    "    blah = (open(\"text-data/data.txt\").read())\n",
    "    sentences = blah.split('\\n')\n",
    "    #print(len(sentences))\n",
    "\n",
    "    text = ''\n",
    "\n",
    "    for sen in sentences:\n",
    "        if any(word in sen for word in words):\n",
    "            #print(sen)\n",
    "            text = text+sen + '\\n'\n",
    "    if (emotion == 'sad'):\n",
    "        f1 = open(\"text-data/sad.txt\", \"a\")\n",
    "        f1.write(text)\n",
    "        f1.close()\n",
    "    if (emotion == 'happy'):\n",
    "        f1 = open(\"text-data/happy.txt\", \"a\")\n",
    "        f1.write(text)\n",
    "        f1.close()\n",
    "\n",
    "\n",
    "\n",
    "jokertext = (open(\"text-data/joker.txt\").read())\n",
    "jokertext = jokertext.lower()\n",
    "jokertext =re.sub('[^a-zA-Z]', ' ', jokertext )\n",
    "jokertext = re.sub(r'\\s+', ' ', jokertext)\n"
   ]
  },
  {
   "cell_type": "code",
   "execution_count": 31,
   "metadata": {},
   "outputs": [
    {
     "name": "stdout",
     "output_type": "stream",
     "text": [
      "[('time', 0.999327540397644), ('playing', 0.9992882013320923), ('screaming', 0.9992437362670898), ('holding', 0.9992415308952332), ('almost', 0.9992361068725586), ('looks', 0.9992331266403198), ('toward', 0.999233067035675), ('come', 0.9992256760597229), ('eyes', 0.9992110133171082), ('still', 0.9992056488990784)]\n",
      "[('old', 0.9996925592422485), ('one', 0.9996901750564575), ('back', 0.9996889233589172), ('across', 0.9996849894523621), ('hard', 0.9996796250343323), ('hears', 0.9996732473373413), ('next', 0.9996724128723145), ('file', 0.9996700286865234), ('talking', 0.9996681213378906), ('bathroom', 0.9996665716171265)]\n"
     ]
    }
   ],
   "source": [
    "allsent=nltk.sent_tokenize(jokertext)\n",
    "allwords= [nltk.word_tokenize(sent) for sent in allsent]\n",
    "\n",
    "#stopword removal\n",
    "for i in range(len(allwords)):\n",
    "     allwords[i] = [w for w in allwords[i] if w not in stopwords.words('english')]   \n",
    "\n",
    "#word2vec model that finds words similar to the emotion words \n",
    "word2vec = Word2Vec(allwords, min_count=1, sg=1)\n",
    "vocabulary = word2vec.wv.vocab\n",
    "\n",
    "\n",
    "sim_words = word2vec.wv.most_similar('cry')\n",
    "#print(sim_words)\n",
    "print_emo(sim_words, 'sad')\n",
    "\n",
    "sim_words = word2vec.wv.most_similar('frown')\n",
    "#print(sim_words)\n",
    "print_emo(sim_words, 'sad')\n",
    "\n",
    "sim_words1 = word2vec.wv.most_similar('joy')\n",
    "print(sim_words1)\n",
    "print_emo(sim_words1, 'happy')\n",
    "\n",
    "sim_words1 = word2vec.wv.most_similar('smile')\n",
    "print(sim_words1)\n",
    "print_emo(sim_words1, 'happy')\n",
    "\n",
    "\n"
   ]
  },
  {
   "cell_type": "code",
   "execution_count": 20,
   "metadata": {},
   "outputs": [
    {
     "name": "stdout",
     "output_type": "stream",
     "text": [
      "['empty' 'sadness' 'enthusiasm' 'neutral' 'worry' 'surprise' 'love' 'fun'\n",
      " 'hate' 'happiness' 'boredom' 'relief' 'anger']\n",
      "['sentiment', 'content']\n"
     ]
    }
   ],
   "source": [
    "#The Emotion in Text data set by CrowdFlower\n",
    "\n",
    "df = pd.read_csv(\"text-data/text_emotion.csv\")\n",
    "emotions = df.sentiment.unique()\n",
    "print(emotions)\n",
    "list(df.columns)\n",
    "\n",
    "\n",
    "df = df.drop('tweet_id', axis=1)\n",
    "df = df.drop('author',axis=1)\n",
    "df=df.dropna()\n",
    "\n",
    "print(list(df.columns))"
   ]
  },
  {
   "cell_type": "code",
   "execution_count": 21,
   "metadata": {},
   "outputs": [
    {
     "name": "stdout",
     "output_type": "stream",
     "text": [
      "        sentiment                                            content\n",
      "0           empty  @tiffanylue i know  i was listenin to bad habi...\n",
      "1         sadness  Layin n bed with a headache  ughhhh...waitin o...\n",
      "2         sadness                Funeral ceremony...gloomy friday...\n",
      "3      enthusiasm               wants to hang out with friends SOON!\n",
      "4         neutral  @dannycastillo We want to trade with someone w...\n",
      "...           ...                                                ...\n",
      "39995     neutral                                   @JohnLloydTaylor\n",
      "39996        love                     Happy Mothers Day  All my love\n",
      "39997        love  Happy Mother's Day to all the mommies out ther...\n",
      "39998   happiness  @niariley WASSUP BEAUTIFUL!!! FOLLOW ME!!  PEE...\n",
      "39999        love  @mopedronin bullet train from tokyo    the gf ...\n",
      "\n",
      "[40000 rows x 2 columns]\n"
     ]
    }
   ],
   "source": [
    "\n",
    "def clean_tweet(row):\n",
    "    row = row.lower()\n",
    "    row = re.sub('http\\S+|www.\\S+', '', row)\n",
    "    row = re.sub(\"@[A-Za-z0-9]+\",\"\",row)\n",
    "    return row\n",
    "\n",
    "df.replace({'content': 'http\\S+|www.\\S+'}, {'content':''}, regex = True)\n",
    "df.replace({'content': '@[A-Za-z0-9]+'}, {'content':''}, regex = True)\n",
    "df['content'].str.lower()\n",
    "print(df)\n"
   ]
  },
  {
   "cell_type": "code",
   "execution_count": 22,
   "metadata": {},
   "outputs": [],
   "source": [
    "from sklearn.model_selection import train_test_split\n",
    "#['empty' 'sadness' 'enthusiasm' 'neutral' 'worry' 'surprise' 'love' 'fun'\n",
    " #'hate' 'happiness' 'boredom' 'relief' 'anger']\n",
    "def sent_to_num(row):\n",
    "    num = 0 \n",
    "    if row=='neutral':\n",
    "        num = 0\n",
    "    if row=='empty':\n",
    "        num = 1\n",
    "    if row=='sadness':\n",
    "        num = 2\n",
    "    if row=='enthusiasm':\n",
    "        num = 3\n",
    "    if row=='worry':\n",
    "        num = 4\n",
    "    if row=='suprise':\n",
    "        num = 5\n",
    "    if row=='love':\n",
    "        num = 6\n",
    "    if row=='fun':\n",
    "        num = 7\n",
    "    if row=='hate':\n",
    "        num = 8\n",
    "    if row=='happiness':\n",
    "        num = 9\n",
    "    if row=='boredom':\n",
    "        num = 10\n",
    "    if row=='relief':\n",
    "        num = 11\n",
    "    if row=='anger':\n",
    "        num = 12\n",
    "    return num\n",
    "\n",
    "X = []\n",
    "sentences = list(df[\"content\"])\n",
    "for sen in sentences:\n",
    "    X.append(clean_tweet(sen))\n",
    "\n",
    "\n",
    "sentiments = list(df['sentiment'])\n",
    "Y = []\n",
    "\n",
    "for sen in sentiments:\n",
    "    Y.append(sent_to_num(sen))\n",
    "\n",
    "X_train, X_test, Y_train, Y_test = train_test_split(X, Y, test_size=0.20, random_state=42) #80-20 split for training and testing\n",
    "\n",
    "#print(Y)\n",
    "# add word imbedding\n",
    "\n",
    "\n"
   ]
  },
  {
   "cell_type": "code",
   "execution_count": 23,
   "metadata": {},
   "outputs": [],
   "source": [
    "from numpy import array\n",
    "from keras.preprocessing.text import one_hot\n",
    "from keras.preprocessing.sequence import pad_sequences\n",
    "from keras.models import Sequential\n",
    "from keras.layers.core import Activation, Dropout, Dense\n",
    "from keras.layers import Flatten, LSTM\n",
    "from keras.layers import GlobalMaxPooling1D\n",
    "from keras.models import Model\n",
    "from keras.layers.embeddings import Embedding\n",
    "from sklearn.model_selection import train_test_split\n",
    "from keras.preprocessing.text import Tokenizer\n",
    "from keras.layers import Input\n",
    "from keras.layers.merge import Concatenate"
   ]
  },
  {
   "cell_type": "code",
   "execution_count": 24,
   "metadata": {},
   "outputs": [],
   "source": [
    "\n",
    "tokenizer = Tokenizer(num_words=5000)\n",
    "tokenizer.fit_on_texts(X_train)\n",
    "\n",
    "X_train = tokenizer.texts_to_sequences(X_train)\n",
    "X_test = tokenizer.texts_to_sequences(X_test)\n",
    "\n",
    "vocab_size = len(tokenizer.word_index) + 1\n",
    "\n",
    "maxlen = 200\n",
    "\n",
    "X_train = pad_sequences(X_train, padding='post', maxlen=maxlen)\n",
    "X_test = pad_sequences(X_test, padding='post', maxlen=maxlen)\n"
   ]
  },
  {
   "cell_type": "code",
   "execution_count": 26,
   "metadata": {},
   "outputs": [
    {
     "name": "stdout",
     "output_type": "stream",
     "text": [
      "Train on 25600 samples, validate on 6400 samples\n",
      "Epoch 1/2\n",
      "25600/25600 [==============================] - 170s 7ms/step - loss: -75.6739 - acc: 0.0222 - val_loss: -120.3439 - val_acc: 0.0198\n",
      "Epoch 2/2\n",
      "25600/25600 [==============================] - 169s 7ms/step - loss: -159.5042 - acc: 0.0211 - val_loss: -197.7029 - val_acc: 0.0198\n"
     ]
    }
   ],
   "source": [
    "from numpy import array\n",
    "from numpy import asarray\n",
    "from numpy import zeros\n",
    "\n",
    "embeddings_dictionary = dict()\n",
    "\n",
    "glove_file = open('text-data/glove.6B/glove.6B.100d.txt', encoding=\"utf8\")\n",
    "\n",
    "for line in glove_file:\n",
    "    records = line.split()\n",
    "    word = records[0]\n",
    "    vector_dimensions = asarray(records[1:], dtype='float32')\n",
    "    embeddings_dictionary[word] = vector_dimensions\n",
    "glove_file.close()\n",
    "\n",
    "embedding_matrix = zeros((vocab_size, 100))\n",
    "for word, index in tokenizer.word_index.items():\n",
    "    embedding_vector = embeddings_dictionary.get(word)\n",
    "    if embedding_vector is not None:\n",
    "        embedding_matrix[index] = embedding_vector\n",
    "        \n",
    "        \n",
    "deep_inputs = Input(shape=(maxlen,))\n",
    "embedding_layer = Embedding(vocab_size, 100, weights=[embedding_matrix], trainable=False)(deep_inputs)\n",
    "LSTM_Layer_1 = LSTM(128)(embedding_layer)\n",
    "dense_layer_1 = Dense(1, activation='sigmoid')(LSTM_Layer_1)\n",
    "model = Model(inputs=deep_inputs, outputs=dense_layer_1)\n",
    "\n",
    "model.compile(loss='binary_crossentropy', optimizer='adam', metrics=['acc'])\n",
    "\n",
    "history = model.fit(X_train, Y_train, batch_size=128, epochs=2, verbose=1, validation_split=0.2)\n"
   ]
  },
  {
   "cell_type": "code",
   "execution_count": 27,
   "metadata": {},
   "outputs": [
    {
     "data": {
      "image/png": "[encoded data removed]",
      "text/plain": [
       "<Figure size 432x288 with 1 Axes>"
      ]
     },
     "metadata": {
      "needs_background": "light"
     },
     "output_type": "display_data"
    },
    {
     "data": {
      "image/png": "[encoded data removed]",
      "text/plain": [
       "<Figure size 432x288 with 1 Axes>"
      ]
     },
     "metadata": {
      "needs_background": "light"
     },
     "output_type": "display_data"
    }
   ],
   "source": [
    "import matplotlib.pyplot as plt\n",
    "\n",
    "plt.plot(history.history['acc'])\n",
    "plt.plot(history.history['val_acc'])\n",
    "\n",
    "plt.title('model accuracy')\n",
    "plt.ylabel('accuracy')\n",
    "plt.xlabel('epoch')\n",
    "plt.legend(['train','test'], loc='upper left')\n",
    "plt.show()\n",
    "\n",
    "plt.plot(history.history['loss'])\n",
    "plt.plot(history.history['val_loss'])\n",
    "\n",
    "plt.title('model loss')\n",
    "plt.ylabel('loss')\n",
    "plt.xlabel('epoch')\n",
    "plt.legend(['train','test'], loc='upper left')\n",
    "plt.show()"
   ]
  },
  {
   "cell_type": "code",
   "execution_count": null,
   "metadata": {},
   "outputs": [],
   "source": []
  }
 ],
 "metadata": {
  "kernelspec": {
   "display_name": "Python 3",
   "language": "python",
   "name": "python3"
  },
  "language_info": {
   "codemirror_mode": {
    "name": "ipython",
    "version": 3
   },
   "file_extension": ".py",
   "mimetype": "text/x-python",
   "name": "python",
   "nbconvert_exporter": "python",
   "pygments_lexer": "ipython3",
   "version": "3.7.4"
  }
 },
 "nbformat": 4,
 "nbformat_minor": 2
}
